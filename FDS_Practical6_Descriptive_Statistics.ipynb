{
  "nbformat": 4,
  "nbformat_minor": 0,
  "metadata": {
    "colab": {
      "name": "FDS_Practical6_Descriptive_Statistics",
      "provenance": [],
      "authorship_tag": "ABX9TyNMnuUcVe7nm0v/+N28VZSC",
      "include_colab_link": true
    },
    "kernelspec": {
      "name": "python3",
      "display_name": "Python 3"
    },
    "language_info": {
      "name": "python"
    }
  },
  "cells": [
    {
      "cell_type": "markdown",
      "metadata": {
        "id": "view-in-github",
        "colab_type": "text"
      },
      "source": [
        "<a href=\"https://colab.research.google.com/github/vj2268/MSc_FDS_Pracs/blob/main/FDS_Practical6_Descriptive_Statistics.ipynb\" target=\"_parent\"><img src=\"https://colab.research.google.com/assets/colab-badge.svg\" alt=\"Open In Colab\"/></a>"
      ]
    },
    {
      "cell_type": "code",
      "execution_count": 2,
      "metadata": {
        "colab": {
          "base_uri": "https://localhost:8080/",
          "height": 363
        },
        "id": "ImVuvurPfguX",
        "outputId": "e285291f-9a5f-4725-ea1f-a031447d199b"
      },
      "outputs": [
        {
          "output_type": "execute_result",
          "data": {
            "text/html": [
              "<div>\n",
              "<style scoped>\n",
              "    .dataframe tbody tr th:only-of-type {\n",
              "        vertical-align: middle;\n",
              "    }\n",
              "\n",
              "    .dataframe tbody tr th {\n",
              "        vertical-align: top;\n",
              "    }\n",
              "\n",
              "    .dataframe thead th {\n",
              "        text-align: right;\n",
              "    }\n",
              "</style>\n",
              "<table border=\"1\" class=\"dataframe\">\n",
              "  <thead>\n",
              "    <tr style=\"text-align: right;\">\n",
              "      <th></th>\n",
              "      <th>Name</th>\n",
              "      <th>Salary</th>\n",
              "      <th>Country</th>\n",
              "    </tr>\n",
              "  </thead>\n",
              "  <tbody>\n",
              "    <tr>\n",
              "      <th>0</th>\n",
              "      <td>Dan</td>\n",
              "      <td>40000</td>\n",
              "      <td>USA</td>\n",
              "    </tr>\n",
              "    <tr>\n",
              "      <th>1</th>\n",
              "      <td>Elizabeth</td>\n",
              "      <td>32000</td>\n",
              "      <td>Brazil</td>\n",
              "    </tr>\n",
              "    <tr>\n",
              "      <th>2</th>\n",
              "      <td>Jon</td>\n",
              "      <td>45000</td>\n",
              "      <td>Italy</td>\n",
              "    </tr>\n",
              "    <tr>\n",
              "      <th>3</th>\n",
              "      <td>Maria</td>\n",
              "      <td>54000</td>\n",
              "      <td>USA</td>\n",
              "    </tr>\n",
              "    <tr>\n",
              "      <th>4</th>\n",
              "      <td>Mark</td>\n",
              "      <td>72000</td>\n",
              "      <td>USA</td>\n",
              "    </tr>\n",
              "    <tr>\n",
              "      <th>5</th>\n",
              "      <td>Bill</td>\n",
              "      <td>62000</td>\n",
              "      <td>Brazil</td>\n",
              "    </tr>\n",
              "    <tr>\n",
              "      <th>6</th>\n",
              "      <td>Jess</td>\n",
              "      <td>92000</td>\n",
              "      <td>Italy</td>\n",
              "    </tr>\n",
              "    <tr>\n",
              "      <th>7</th>\n",
              "      <td>Julia</td>\n",
              "      <td>55000</td>\n",
              "      <td>USA</td>\n",
              "    </tr>\n",
              "    <tr>\n",
              "      <th>8</th>\n",
              "      <td>Jeff</td>\n",
              "      <td>35000</td>\n",
              "      <td>Italy</td>\n",
              "    </tr>\n",
              "    <tr>\n",
              "      <th>9</th>\n",
              "      <td>Ben</td>\n",
              "      <td>48000</td>\n",
              "      <td>Brazil</td>\n",
              "    </tr>\n",
              "  </tbody>\n",
              "</table>\n",
              "</div>"
            ],
            "text/plain": [
              "        Name  Salary Country\n",
              "0        Dan   40000     USA\n",
              "1  Elizabeth   32000  Brazil\n",
              "2        Jon   45000   Italy\n",
              "3      Maria   54000     USA\n",
              "4       Mark   72000     USA\n",
              "5       Bill   62000  Brazil\n",
              "6       Jess   92000   Italy\n",
              "7      Julia   55000     USA\n",
              "8       Jeff   35000   Italy\n",
              "9        Ben   48000  Brazil"
            ]
          },
          "metadata": {},
          "execution_count": 2
        }
      ],
      "source": [
        "import pandas as pd\n",
        "df=pd.read_csv('stats.csv')\n",
        "df"
      ]
    },
    {
      "cell_type": "markdown",
      "source": [
        "**Measure of Central Tendancy**"
      ],
      "metadata": {
        "id": "EnHA56ZJhPcG"
      }
    },
    {
      "cell_type": "code",
      "source": [
        "# Mean Salary\n",
        "mean1=df['Salary'].mean()\n",
        "mean1"
      ],
      "metadata": {
        "colab": {
          "base_uri": "https://localhost:8080/"
        },
        "id": "IdEDDYhThRDv",
        "outputId": "22412559-ac10-433e-a4cc-1edff9e0b1d2"
      },
      "execution_count": 3,
      "outputs": [
        {
          "output_type": "execute_result",
          "data": {
            "text/plain": [
              "53500.0"
            ]
          },
          "metadata": {},
          "execution_count": 3
        }
      ]
    },
    {
      "cell_type": "code",
      "source": [
        "#Sum of Salaries\n",
        "sum1=df['Salary'].sum()\n",
        "sum1"
      ],
      "metadata": {
        "colab": {
          "base_uri": "https://localhost:8080/"
        },
        "id": "qbSYXV1vhY81",
        "outputId": "5c3aa8a4-1c7e-4d54-8560-c51ced8aecac"
      },
      "execution_count": 4,
      "outputs": [
        {
          "output_type": "execute_result",
          "data": {
            "text/plain": [
              "535000"
            ]
          },
          "metadata": {},
          "execution_count": 4
        }
      ]
    },
    {
      "cell_type": "code",
      "source": [
        "#Maximum Salary\n",
        "max1=df['Salary'].max()\n",
        "max1"
      ],
      "metadata": {
        "colab": {
          "base_uri": "https://localhost:8080/"
        },
        "id": "J1XhOt-ghcQt",
        "outputId": "7e5211d0-69d0-41da-e7e3-b47a84718253"
      },
      "execution_count": 5,
      "outputs": [
        {
          "output_type": "execute_result",
          "data": {
            "text/plain": [
              "92000"
            ]
          },
          "metadata": {},
          "execution_count": 5
        }
      ]
    },
    {
      "cell_type": "code",
      "source": [
        "#Minimum Salary\n",
        "min1=df['Salary'].min()\n",
        "min1"
      ],
      "metadata": {
        "colab": {
          "base_uri": "https://localhost:8080/"
        },
        "id": "lXMaZDeVhgJF",
        "outputId": "3bb454e7-185b-4ef1-8f3d-c34ebbb15979"
      },
      "execution_count": 6,
      "outputs": [
        {
          "output_type": "execute_result",
          "data": {
            "text/plain": [
              "32000"
            ]
          },
          "metadata": {},
          "execution_count": 6
        }
      ]
    },
    {
      "cell_type": "code",
      "source": [
        "#Total count\n",
        "\n",
        "count1=df['Salary'].count()\n",
        "count1"
      ],
      "metadata": {
        "colab": {
          "base_uri": "https://localhost:8080/"
        },
        "id": "MHcYAz7shkWV",
        "outputId": "0ae71ce5-5b85-4343-f337-8bb807eef824"
      },
      "execution_count": 7,
      "outputs": [
        {
          "output_type": "execute_result",
          "data": {
            "text/plain": [
              "10"
            ]
          },
          "metadata": {},
          "execution_count": 7
        }
      ]
    },
    {
      "cell_type": "code",
      "source": [
        "#Median\n",
        "median=df['Salary'].median()\n",
        "median"
      ],
      "metadata": {
        "colab": {
          "base_uri": "https://localhost:8080/"
        },
        "id": "NcWpuFuXhnLF",
        "outputId": "fbc1df75-e2d1-4794-e472-6502392dda73"
      },
      "execution_count": 8,
      "outputs": [
        {
          "output_type": "execute_result",
          "data": {
            "text/plain": [
              "51000.0"
            ]
          },
          "metadata": {},
          "execution_count": 8
        }
      ]
    },
    {
      "cell_type": "code",
      "source": [
        "#Mode\n",
        "mode1=df['Salary'].mode()\n",
        "mode1"
      ],
      "metadata": {
        "colab": {
          "base_uri": "https://localhost:8080/"
        },
        "id": "ZaHDvtmDhoL-",
        "outputId": "143d22ca-3982-42d8-9d10-2de938c92948"
      },
      "execution_count": 9,
      "outputs": [
        {
          "output_type": "execute_result",
          "data": {
            "text/plain": [
              "0    32000\n",
              "1    35000\n",
              "2    40000\n",
              "3    45000\n",
              "4    48000\n",
              "5    54000\n",
              "6    55000\n",
              "7    62000\n",
              "8    72000\n",
              "9    92000\n",
              "dtype: int64"
            ]
          },
          "metadata": {},
          "execution_count": 9
        }
      ]
    },
    {
      "cell_type": "code",
      "source": [
        "countrywise_sum=df.groupby(['Country'])['Salary'].sum()\n",
        "countrywise_sum"
      ],
      "metadata": {
        "colab": {
          "base_uri": "https://localhost:8080/"
        },
        "id": "GYSyfcx4hsgm",
        "outputId": "2af147d7-7c49-418f-de49-a8bb077300d0"
      },
      "execution_count": 10,
      "outputs": [
        {
          "output_type": "execute_result",
          "data": {
            "text/plain": [
              "Country\n",
              "Brazil    142000\n",
              "Italy     172000\n",
              "USA       221000\n",
              "Name: Salary, dtype: int64"
            ]
          },
          "metadata": {},
          "execution_count": 10
        }
      ]
    },
    {
      "cell_type": "code",
      "source": [
        "countrywise_count=df.groupby(['Country']).count()\n",
        "countrywise_count"
      ],
      "metadata": {
        "colab": {
          "base_uri": "https://localhost:8080/",
          "height": 175
        },
        "id": "kKqXEY_xhvcW",
        "outputId": "ea4982c5-df53-40be-9380-4d74803d6fd7"
      },
      "execution_count": 11,
      "outputs": [
        {
          "output_type": "execute_result",
          "data": {
            "text/html": [
              "<div>\n",
              "<style scoped>\n",
              "    .dataframe tbody tr th:only-of-type {\n",
              "        vertical-align: middle;\n",
              "    }\n",
              "\n",
              "    .dataframe tbody tr th {\n",
              "        vertical-align: top;\n",
              "    }\n",
              "\n",
              "    .dataframe thead th {\n",
              "        text-align: right;\n",
              "    }\n",
              "</style>\n",
              "<table border=\"1\" class=\"dataframe\">\n",
              "  <thead>\n",
              "    <tr style=\"text-align: right;\">\n",
              "      <th></th>\n",
              "      <th>Name</th>\n",
              "      <th>Salary</th>\n",
              "    </tr>\n",
              "    <tr>\n",
              "      <th>Country</th>\n",
              "      <th></th>\n",
              "      <th></th>\n",
              "    </tr>\n",
              "  </thead>\n",
              "  <tbody>\n",
              "    <tr>\n",
              "      <th>Brazil</th>\n",
              "      <td>3</td>\n",
              "      <td>3</td>\n",
              "    </tr>\n",
              "    <tr>\n",
              "      <th>Italy</th>\n",
              "      <td>3</td>\n",
              "      <td>3</td>\n",
              "    </tr>\n",
              "    <tr>\n",
              "      <th>USA</th>\n",
              "      <td>4</td>\n",
              "      <td>4</td>\n",
              "    </tr>\n",
              "  </tbody>\n",
              "</table>\n",
              "</div>"
            ],
            "text/plain": [
              "         Name  Salary\n",
              "Country              \n",
              "Brazil      3       3\n",
              "Italy       3       3\n",
              "USA         4       4"
            ]
          },
          "metadata": {},
          "execution_count": 11
        }
      ]
    },
    {
      "cell_type": "markdown",
      "source": [
        "**Measure of variability**"
      ],
      "metadata": {
        "id": "caQ-Ps_vhy4u"
      }
    },
    {
      "cell_type": "code",
      "source": [
        "#variance of salaries\n",
        "var1=df['Salary'].var()\n",
        "var1"
      ],
      "metadata": {
        "colab": {
          "base_uri": "https://localhost:8080/"
        },
        "id": "xb4Fe8-3h00v",
        "outputId": "9a068e05-466c-4943-c9d2-950824226631"
      },
      "execution_count": 12,
      "outputs": [
        {
          "output_type": "execute_result",
          "data": {
            "text/plain": [
              "332055555.5555556"
            ]
          },
          "metadata": {},
          "execution_count": 12
        }
      ]
    },
    {
      "cell_type": "code",
      "source": [
        "#standard deviation\n",
        "std1=df['Salary'].std()\n",
        "std1"
      ],
      "metadata": {
        "colab": {
          "base_uri": "https://localhost:8080/"
        },
        "id": "sZ-780K3h4uG",
        "outputId": "1c3ef2e8-a5e2-4414-94bd-11ef0b1014a9"
      },
      "execution_count": 13,
      "outputs": [
        {
          "output_type": "execute_result",
          "data": {
            "text/plain": [
              "18222.391598128816"
            ]
          },
          "metadata": {},
          "execution_count": 13
        }
      ]
    },
    {
      "cell_type": "markdown",
      "source": [
        "**Measure of Symmetry**"
      ],
      "metadata": {
        "id": "awhQ-bGCh70d"
      }
    },
    {
      "cell_type": "code",
      "source": [
        "skew1=df.skew(axis=0, skipna=True)\n",
        "skew1"
      ],
      "metadata": {
        "colab": {
          "base_uri": "https://localhost:8080/"
        },
        "id": "JfsGQVCnh-mu",
        "outputId": "1fda422e-6fd5-4066-ee61-26d036222dd2"
      },
      "execution_count": 14,
      "outputs": [
        {
          "output_type": "execute_result",
          "data": {
            "text/plain": [
              "Salary    1.021551\n",
              "dtype: float64"
            ]
          },
          "metadata": {},
          "execution_count": 14
        }
      ]
    },
    {
      "cell_type": "markdown",
      "source": [
        "**#The skewness is positive so x will have right side tail.**"
      ],
      "metadata": {
        "id": "mmMJK-gEiGzO"
      }
    },
    {
      "cell_type": "markdown",
      "source": [
        "**Covariance and Correlation**"
      ],
      "metadata": {
        "id": "yypAxEbJiNfF"
      }
    },
    {
      "cell_type": "code",
      "source": [
        "bw=pd.read_csv('BirthWeight.csv')\n",
        "bw.head()"
      ],
      "metadata": {
        "colab": {
          "base_uri": "https://localhost:8080/",
          "height": 206
        },
        "id": "LVYBOZ5TiU11",
        "outputId": "db96315f-b2c1-45c2-b644-6fb318647431"
      },
      "execution_count": 15,
      "outputs": [
        {
          "output_type": "execute_result",
          "data": {
            "text/html": [
              "<div>\n",
              "<style scoped>\n",
              "    .dataframe tbody tr th:only-of-type {\n",
              "        vertical-align: middle;\n",
              "    }\n",
              "\n",
              "    .dataframe tbody tr th {\n",
              "        vertical-align: top;\n",
              "    }\n",
              "\n",
              "    .dataframe thead th {\n",
              "        text-align: right;\n",
              "    }\n",
              "</style>\n",
              "<table border=\"1\" class=\"dataframe\">\n",
              "  <thead>\n",
              "    <tr style=\"text-align: right;\">\n",
              "      <th></th>\n",
              "      <th>Infant ID</th>\n",
              "      <th>Gestational Age (Weeks)</th>\n",
              "      <th>Birth Weight (Grams)</th>\n",
              "    </tr>\n",
              "  </thead>\n",
              "  <tbody>\n",
              "    <tr>\n",
              "      <th>0</th>\n",
              "      <td>1</td>\n",
              "      <td>34.7</td>\n",
              "      <td>1895</td>\n",
              "    </tr>\n",
              "    <tr>\n",
              "      <th>1</th>\n",
              "      <td>2</td>\n",
              "      <td>36.0</td>\n",
              "      <td>2030</td>\n",
              "    </tr>\n",
              "    <tr>\n",
              "      <th>2</th>\n",
              "      <td>3</td>\n",
              "      <td>29.3</td>\n",
              "      <td>1440</td>\n",
              "    </tr>\n",
              "    <tr>\n",
              "      <th>3</th>\n",
              "      <td>4</td>\n",
              "      <td>40.1</td>\n",
              "      <td>2835</td>\n",
              "    </tr>\n",
              "    <tr>\n",
              "      <th>4</th>\n",
              "      <td>5</td>\n",
              "      <td>35.7</td>\n",
              "      <td>3090</td>\n",
              "    </tr>\n",
              "  </tbody>\n",
              "</table>\n",
              "</div>"
            ],
            "text/plain": [
              "   Infant ID  Gestational Age (Weeks)  Birth Weight (Grams)\n",
              "0          1                     34.7                  1895\n",
              "1          2                     36.0                  2030\n",
              "2          3                     29.3                  1440\n",
              "3          4                     40.1                  2835\n",
              "4          5                     35.7                  3090"
            ]
          },
          "metadata": {},
          "execution_count": 15
        }
      ]
    },
    {
      "cell_type": "code",
      "source": [
        "bw.set_index('Infant ID', inplace=True)\n",
        "bw.head()"
      ],
      "metadata": {
        "colab": {
          "base_uri": "https://localhost:8080/",
          "height": 237
        },
        "id": "hDyu7iUpiJ8t",
        "outputId": "3a64b70e-6906-4959-bbed-7edaccb8dc65"
      },
      "execution_count": 16,
      "outputs": [
        {
          "output_type": "execute_result",
          "data": {
            "text/html": [
              "<div>\n",
              "<style scoped>\n",
              "    .dataframe tbody tr th:only-of-type {\n",
              "        vertical-align: middle;\n",
              "    }\n",
              "\n",
              "    .dataframe tbody tr th {\n",
              "        vertical-align: top;\n",
              "    }\n",
              "\n",
              "    .dataframe thead th {\n",
              "        text-align: right;\n",
              "    }\n",
              "</style>\n",
              "<table border=\"1\" class=\"dataframe\">\n",
              "  <thead>\n",
              "    <tr style=\"text-align: right;\">\n",
              "      <th></th>\n",
              "      <th>Gestational Age (Weeks)</th>\n",
              "      <th>Birth Weight (Grams)</th>\n",
              "    </tr>\n",
              "    <tr>\n",
              "      <th>Infant ID</th>\n",
              "      <th></th>\n",
              "      <th></th>\n",
              "    </tr>\n",
              "  </thead>\n",
              "  <tbody>\n",
              "    <tr>\n",
              "      <th>1</th>\n",
              "      <td>34.7</td>\n",
              "      <td>1895</td>\n",
              "    </tr>\n",
              "    <tr>\n",
              "      <th>2</th>\n",
              "      <td>36.0</td>\n",
              "      <td>2030</td>\n",
              "    </tr>\n",
              "    <tr>\n",
              "      <th>3</th>\n",
              "      <td>29.3</td>\n",
              "      <td>1440</td>\n",
              "    </tr>\n",
              "    <tr>\n",
              "      <th>4</th>\n",
              "      <td>40.1</td>\n",
              "      <td>2835</td>\n",
              "    </tr>\n",
              "    <tr>\n",
              "      <th>5</th>\n",
              "      <td>35.7</td>\n",
              "      <td>3090</td>\n",
              "    </tr>\n",
              "  </tbody>\n",
              "</table>\n",
              "</div>"
            ],
            "text/plain": [
              "           Gestational Age (Weeks)  Birth Weight (Grams)\n",
              "Infant ID                                               \n",
              "1                             34.7                  1895\n",
              "2                             36.0                  2030\n",
              "3                             29.3                  1440\n",
              "4                             40.1                  2835\n",
              "5                             35.7                  3090"
            ]
          },
          "metadata": {},
          "execution_count": 16
        }
      ]
    },
    {
      "cell_type": "code",
      "source": [
        "bw.cov()"
      ],
      "metadata": {
        "colab": {
          "base_uri": "https://localhost:8080/",
          "height": 112
        },
        "id": "rrSZYW-Ki4dN",
        "outputId": "e18fa471-8d0b-4845-b729-403a5e966895"
      },
      "execution_count": 17,
      "outputs": [
        {
          "output_type": "execute_result",
          "data": {
            "text/html": [
              "<div>\n",
              "<style scoped>\n",
              "    .dataframe tbody tr th:only-of-type {\n",
              "        vertical-align: middle;\n",
              "    }\n",
              "\n",
              "    .dataframe tbody tr th {\n",
              "        vertical-align: top;\n",
              "    }\n",
              "\n",
              "    .dataframe thead th {\n",
              "        text-align: right;\n",
              "    }\n",
              "</style>\n",
              "<table border=\"1\" class=\"dataframe\">\n",
              "  <thead>\n",
              "    <tr style=\"text-align: right;\">\n",
              "      <th></th>\n",
              "      <th>Gestational Age (Weeks)</th>\n",
              "      <th>Birth Weight (Grams)</th>\n",
              "    </tr>\n",
              "  </thead>\n",
              "  <tbody>\n",
              "    <tr>\n",
              "      <th>Gestational Age (Weeks)</th>\n",
              "      <td>9.963824</td>\n",
              "      <td>1798.025</td>\n",
              "    </tr>\n",
              "    <tr>\n",
              "      <th>Birth Weight (Grams)</th>\n",
              "      <td>1798.025000</td>\n",
              "      <td>485478.750</td>\n",
              "    </tr>\n",
              "  </tbody>\n",
              "</table>\n",
              "</div>"
            ],
            "text/plain": [
              "                         Gestational Age (Weeks)  Birth Weight (Grams)\n",
              "Gestational Age (Weeks)                 9.963824              1798.025\n",
              "Birth Weight (Grams)                 1798.025000            485478.750"
            ]
          },
          "metadata": {},
          "execution_count": 17
        }
      ]
    },
    {
      "cell_type": "code",
      "source": [
        "bw.corr(method=\"pearson\")"
      ],
      "metadata": {
        "colab": {
          "base_uri": "https://localhost:8080/",
          "height": 112
        },
        "id": "2lJFOixTi72F",
        "outputId": "2dc9a4d8-e13f-418b-9c57-f240e58cd618"
      },
      "execution_count": 18,
      "outputs": [
        {
          "output_type": "execute_result",
          "data": {
            "text/html": [
              "<div>\n",
              "<style scoped>\n",
              "    .dataframe tbody tr th:only-of-type {\n",
              "        vertical-align: middle;\n",
              "    }\n",
              "\n",
              "    .dataframe tbody tr th {\n",
              "        vertical-align: top;\n",
              "    }\n",
              "\n",
              "    .dataframe thead th {\n",
              "        text-align: right;\n",
              "    }\n",
              "</style>\n",
              "<table border=\"1\" class=\"dataframe\">\n",
              "  <thead>\n",
              "    <tr style=\"text-align: right;\">\n",
              "      <th></th>\n",
              "      <th>Gestational Age (Weeks)</th>\n",
              "      <th>Birth Weight (Grams)</th>\n",
              "    </tr>\n",
              "  </thead>\n",
              "  <tbody>\n",
              "    <tr>\n",
              "      <th>Gestational Age (Weeks)</th>\n",
              "      <td>1.000000</td>\n",
              "      <td>0.817519</td>\n",
              "    </tr>\n",
              "    <tr>\n",
              "      <th>Birth Weight (Grams)</th>\n",
              "      <td>0.817519</td>\n",
              "      <td>1.000000</td>\n",
              "    </tr>\n",
              "  </tbody>\n",
              "</table>\n",
              "</div>"
            ],
            "text/plain": [
              "                         Gestational Age (Weeks)  Birth Weight (Grams)\n",
              "Gestational Age (Weeks)                 1.000000              0.817519\n",
              "Birth Weight (Grams)                    0.817519              1.000000"
            ]
          },
          "metadata": {},
          "execution_count": 18
        }
      ]
    },
    {
      "cell_type": "code",
      "source": [
        "#Covariance indicates that there is correlation exists between two\n",
        "#Correlation coefficient of 0.818 indicates the relationship between two is positive and strong"
      ],
      "metadata": {
        "id": "5H6qDqtZi_E1"
      },
      "execution_count": null,
      "outputs": []
    },
    {
      "cell_type": "code",
      "source": [
        "# importing required libraries\n",
        "\n",
        "import pandas as pd \n",
        "import numpy as np\n",
        "import matplotlib.pyplot as plt\n",
        "import seaborn as sns\n",
        "from scipy.stats import skew\n",
        "from scipy.stats import kurtosis"
      ],
      "metadata": {
        "id": "e1E04KjgjAh-"
      },
      "execution_count": 19,
      "outputs": []
    },
    {
      "cell_type": "code",
      "source": [
        "pd.set_option(\"display.max_columns\",None)  # to display all the columns\n",
        "pd.options.display.float_format = \"{:,.2f}\".format # to display float value upto two decimals"
      ],
      "metadata": {
        "id": "xMKIz9oojFPF"
      },
      "execution_count": 20,
      "outputs": []
    },
    {
      "cell_type": "code",
      "source": [
        "# reading data from csv file \n",
        "xls = pd.read_csv('diamonds.csv')"
      ],
      "metadata": {
        "id": "azctQn2AjLlG"
      },
      "execution_count": 21,
      "outputs": []
    },
    {
      "cell_type": "code",
      "source": [
        "xls.head()"
      ],
      "metadata": {
        "colab": {
          "base_uri": "https://localhost:8080/",
          "height": 206
        },
        "id": "z0oXVZx3jcdt",
        "outputId": "863ce7c4-3d8c-4b05-db31-dba78f798d32"
      },
      "execution_count": 22,
      "outputs": [
        {
          "output_type": "execute_result",
          "data": {
            "text/html": [
              "<div>\n",
              "<style scoped>\n",
              "    .dataframe tbody tr th:only-of-type {\n",
              "        vertical-align: middle;\n",
              "    }\n",
              "\n",
              "    .dataframe tbody tr th {\n",
              "        vertical-align: top;\n",
              "    }\n",
              "\n",
              "    .dataframe thead th {\n",
              "        text-align: right;\n",
              "    }\n",
              "</style>\n",
              "<table border=\"1\" class=\"dataframe\">\n",
              "  <thead>\n",
              "    <tr style=\"text-align: right;\">\n",
              "      <th></th>\n",
              "      <th>id</th>\n",
              "      <th>carat</th>\n",
              "      <th>cut</th>\n",
              "      <th>color</th>\n",
              "      <th>clarity</th>\n",
              "      <th>depth</th>\n",
              "      <th>table</th>\n",
              "      <th>price</th>\n",
              "      <th>x</th>\n",
              "      <th>y</th>\n",
              "      <th>z</th>\n",
              "    </tr>\n",
              "  </thead>\n",
              "  <tbody>\n",
              "    <tr>\n",
              "      <th>0</th>\n",
              "      <td>1</td>\n",
              "      <td>0.23</td>\n",
              "      <td>Ideal</td>\n",
              "      <td>E</td>\n",
              "      <td>SI2</td>\n",
              "      <td>61.50</td>\n",
              "      <td>55.00</td>\n",
              "      <td>326</td>\n",
              "      <td>3.95</td>\n",
              "      <td>3.98</td>\n",
              "      <td>2.43</td>\n",
              "    </tr>\n",
              "    <tr>\n",
              "      <th>1</th>\n",
              "      <td>2</td>\n",
              "      <td>0.21</td>\n",
              "      <td>Premium</td>\n",
              "      <td>E</td>\n",
              "      <td>SI1</td>\n",
              "      <td>59.80</td>\n",
              "      <td>61.00</td>\n",
              "      <td>326</td>\n",
              "      <td>3.89</td>\n",
              "      <td>3.84</td>\n",
              "      <td>2.31</td>\n",
              "    </tr>\n",
              "    <tr>\n",
              "      <th>2</th>\n",
              "      <td>3</td>\n",
              "      <td>0.23</td>\n",
              "      <td>Good</td>\n",
              "      <td>E</td>\n",
              "      <td>VS1</td>\n",
              "      <td>56.90</td>\n",
              "      <td>65.00</td>\n",
              "      <td>327</td>\n",
              "      <td>4.05</td>\n",
              "      <td>4.07</td>\n",
              "      <td>2.31</td>\n",
              "    </tr>\n",
              "    <tr>\n",
              "      <th>3</th>\n",
              "      <td>4</td>\n",
              "      <td>0.29</td>\n",
              "      <td>Premium</td>\n",
              "      <td>I</td>\n",
              "      <td>VS2</td>\n",
              "      <td>62.40</td>\n",
              "      <td>58.00</td>\n",
              "      <td>334</td>\n",
              "      <td>4.20</td>\n",
              "      <td>4.23</td>\n",
              "      <td>2.63</td>\n",
              "    </tr>\n",
              "    <tr>\n",
              "      <th>4</th>\n",
              "      <td>5</td>\n",
              "      <td>0.31</td>\n",
              "      <td>Good</td>\n",
              "      <td>J</td>\n",
              "      <td>SI2</td>\n",
              "      <td>63.30</td>\n",
              "      <td>58.00</td>\n",
              "      <td>335</td>\n",
              "      <td>4.34</td>\n",
              "      <td>4.35</td>\n",
              "      <td>2.75</td>\n",
              "    </tr>\n",
              "  </tbody>\n",
              "</table>\n",
              "</div>"
            ],
            "text/plain": [
              "   id  carat      cut color clarity  depth  table  price    x    y    z\n",
              "0   1   0.23    Ideal     E     SI2  61.50  55.00    326 3.95 3.98 2.43\n",
              "1   2   0.21  Premium     E     SI1  59.80  61.00    326 3.89 3.84 2.31\n",
              "2   3   0.23     Good     E     VS1  56.90  65.00    327 4.05 4.07 2.31\n",
              "3   4   0.29  Premium     I     VS2  62.40  58.00    334 4.20 4.23 2.63\n",
              "4   5   0.31     Good     J     SI2  63.30  58.00    335 4.34 4.35 2.75"
            ]
          },
          "metadata": {},
          "execution_count": 22
        }
      ]
    },
    {
      "cell_type": "code",
      "source": [
        "des_df = xls.drop(['id'],axis = 1) # drop id column\n",
        "for col in des_df:   # drop all alpha-numeric columns\n",
        "  if des_df[col].dtype == 'object':\n",
        "    des_df = des_df.drop([col], axis = 1)\n",
        "\n",
        "des_r = des_df.describe() # describe() gives us mean,min,max,median,1Q,3Q,std\n",
        "des_r = des_r.rename(index={'50%':'median/50%'}) \n",
        "des_r"
      ],
      "metadata": {
        "colab": {
          "base_uri": "https://localhost:8080/",
          "height": 300
        },
        "id": "TOzSa6gLjdRd",
        "outputId": "b23b8a84-af5a-48d0-810b-ba958aaecf16"
      },
      "execution_count": 23,
      "outputs": [
        {
          "output_type": "execute_result",
          "data": {
            "text/html": [
              "<div>\n",
              "<style scoped>\n",
              "    .dataframe tbody tr th:only-of-type {\n",
              "        vertical-align: middle;\n",
              "    }\n",
              "\n",
              "    .dataframe tbody tr th {\n",
              "        vertical-align: top;\n",
              "    }\n",
              "\n",
              "    .dataframe thead th {\n",
              "        text-align: right;\n",
              "    }\n",
              "</style>\n",
              "<table border=\"1\" class=\"dataframe\">\n",
              "  <thead>\n",
              "    <tr style=\"text-align: right;\">\n",
              "      <th></th>\n",
              "      <th>carat</th>\n",
              "      <th>depth</th>\n",
              "      <th>table</th>\n",
              "      <th>price</th>\n",
              "      <th>x</th>\n",
              "      <th>y</th>\n",
              "      <th>z</th>\n",
              "    </tr>\n",
              "  </thead>\n",
              "  <tbody>\n",
              "    <tr>\n",
              "      <th>count</th>\n",
              "      <td>53,940.00</td>\n",
              "      <td>53,940.00</td>\n",
              "      <td>53,940.00</td>\n",
              "      <td>53,940.00</td>\n",
              "      <td>53,940.00</td>\n",
              "      <td>53,940.00</td>\n",
              "      <td>53,940.00</td>\n",
              "    </tr>\n",
              "    <tr>\n",
              "      <th>mean</th>\n",
              "      <td>0.80</td>\n",
              "      <td>61.75</td>\n",
              "      <td>57.46</td>\n",
              "      <td>3,932.80</td>\n",
              "      <td>5.73</td>\n",
              "      <td>5.73</td>\n",
              "      <td>3.54</td>\n",
              "    </tr>\n",
              "    <tr>\n",
              "      <th>std</th>\n",
              "      <td>0.47</td>\n",
              "      <td>1.43</td>\n",
              "      <td>2.23</td>\n",
              "      <td>3,989.44</td>\n",
              "      <td>1.12</td>\n",
              "      <td>1.14</td>\n",
              "      <td>0.71</td>\n",
              "    </tr>\n",
              "    <tr>\n",
              "      <th>min</th>\n",
              "      <td>0.20</td>\n",
              "      <td>43.00</td>\n",
              "      <td>43.00</td>\n",
              "      <td>326.00</td>\n",
              "      <td>0.00</td>\n",
              "      <td>0.00</td>\n",
              "      <td>0.00</td>\n",
              "    </tr>\n",
              "    <tr>\n",
              "      <th>25%</th>\n",
              "      <td>0.40</td>\n",
              "      <td>61.00</td>\n",
              "      <td>56.00</td>\n",
              "      <td>950.00</td>\n",
              "      <td>4.71</td>\n",
              "      <td>4.72</td>\n",
              "      <td>2.91</td>\n",
              "    </tr>\n",
              "    <tr>\n",
              "      <th>median/50%</th>\n",
              "      <td>0.70</td>\n",
              "      <td>61.80</td>\n",
              "      <td>57.00</td>\n",
              "      <td>2,401.00</td>\n",
              "      <td>5.70</td>\n",
              "      <td>5.71</td>\n",
              "      <td>3.53</td>\n",
              "    </tr>\n",
              "    <tr>\n",
              "      <th>75%</th>\n",
              "      <td>1.04</td>\n",
              "      <td>62.50</td>\n",
              "      <td>59.00</td>\n",
              "      <td>5,324.25</td>\n",
              "      <td>6.54</td>\n",
              "      <td>6.54</td>\n",
              "      <td>4.04</td>\n",
              "    </tr>\n",
              "    <tr>\n",
              "      <th>max</th>\n",
              "      <td>5.01</td>\n",
              "      <td>79.00</td>\n",
              "      <td>95.00</td>\n",
              "      <td>18,823.00</td>\n",
              "      <td>10.74</td>\n",
              "      <td>58.90</td>\n",
              "      <td>31.80</td>\n",
              "    </tr>\n",
              "  </tbody>\n",
              "</table>\n",
              "</div>"
            ],
            "text/plain": [
              "               carat     depth     table     price         x         y  \\\n",
              "count      53,940.00 53,940.00 53,940.00 53,940.00 53,940.00 53,940.00   \n",
              "mean            0.80     61.75     57.46  3,932.80      5.73      5.73   \n",
              "std             0.47      1.43      2.23  3,989.44      1.12      1.14   \n",
              "min             0.20     43.00     43.00    326.00      0.00      0.00   \n",
              "25%             0.40     61.00     56.00    950.00      4.71      4.72   \n",
              "median/50%      0.70     61.80     57.00  2,401.00      5.70      5.71   \n",
              "75%             1.04     62.50     59.00  5,324.25      6.54      6.54   \n",
              "max             5.01     79.00     95.00 18,823.00     10.74     58.90   \n",
              "\n",
              "                   z  \n",
              "count      53,940.00  \n",
              "mean            3.54  \n",
              "std             0.71  \n",
              "min             0.00  \n",
              "25%             2.91  \n",
              "median/50%      3.53  \n",
              "75%             4.04  \n",
              "max            31.80  "
            ]
          },
          "metadata": {},
          "execution_count": 23
        }
      ]
    },
    {
      "cell_type": "code",
      "source": [
        "var_r = des_df.var() # calulating variance seperately\n",
        "\n",
        "varlist = []\n",
        "for col in des_df.columns: # converting result of var() from series to list\n",
        "  if des_df[col].dtype == 'object':\n",
        "    continue\n",
        "  varlist.append(round(des_df[col],5))\n",
        "\n",
        "df = pd.DataFrame([varlist],columns=des_r.columns, index=['var']) # putting results of variance into dataframe\n",
        "mct = des_r.append(df) # adding var to describe result\n",
        "mct"
      ],
      "metadata": {
        "colab": {
          "base_uri": "https://localhost:8080/",
          "height": 349
        },
        "id": "uPtBRGlWjfru",
        "outputId": "ea71fc21-3489-4a23-e338-53938b3572c4"
      },
      "execution_count": 24,
      "outputs": [
        {
          "output_type": "execute_result",
          "data": {
            "text/html": [
              "<div>\n",
              "<style scoped>\n",
              "    .dataframe tbody tr th:only-of-type {\n",
              "        vertical-align: middle;\n",
              "    }\n",
              "\n",
              "    .dataframe tbody tr th {\n",
              "        vertical-align: top;\n",
              "    }\n",
              "\n",
              "    .dataframe thead th {\n",
              "        text-align: right;\n",
              "    }\n",
              "</style>\n",
              "<table border=\"1\" class=\"dataframe\">\n",
              "  <thead>\n",
              "    <tr style=\"text-align: right;\">\n",
              "      <th></th>\n",
              "      <th>carat</th>\n",
              "      <th>depth</th>\n",
              "      <th>table</th>\n",
              "      <th>price</th>\n",
              "      <th>x</th>\n",
              "      <th>y</th>\n",
              "      <th>z</th>\n",
              "    </tr>\n",
              "  </thead>\n",
              "  <tbody>\n",
              "    <tr>\n",
              "      <th>count</th>\n",
              "      <td>53,940.00</td>\n",
              "      <td>53,940.00</td>\n",
              "      <td>53,940.00</td>\n",
              "      <td>53,940.00</td>\n",
              "      <td>53,940.00</td>\n",
              "      <td>53,940.00</td>\n",
              "      <td>53,940.00</td>\n",
              "    </tr>\n",
              "    <tr>\n",
              "      <th>mean</th>\n",
              "      <td>0.80</td>\n",
              "      <td>61.75</td>\n",
              "      <td>57.46</td>\n",
              "      <td>3,932.80</td>\n",
              "      <td>5.73</td>\n",
              "      <td>5.73</td>\n",
              "      <td>3.54</td>\n",
              "    </tr>\n",
              "    <tr>\n",
              "      <th>std</th>\n",
              "      <td>0.47</td>\n",
              "      <td>1.43</td>\n",
              "      <td>2.23</td>\n",
              "      <td>3,989.44</td>\n",
              "      <td>1.12</td>\n",
              "      <td>1.14</td>\n",
              "      <td>0.71</td>\n",
              "    </tr>\n",
              "    <tr>\n",
              "      <th>min</th>\n",
              "      <td>0.20</td>\n",
              "      <td>43.00</td>\n",
              "      <td>43.00</td>\n",
              "      <td>326.00</td>\n",
              "      <td>0.00</td>\n",
              "      <td>0.00</td>\n",
              "      <td>0.00</td>\n",
              "    </tr>\n",
              "    <tr>\n",
              "      <th>25%</th>\n",
              "      <td>0.40</td>\n",
              "      <td>61.00</td>\n",
              "      <td>56.00</td>\n",
              "      <td>950.00</td>\n",
              "      <td>4.71</td>\n",
              "      <td>4.72</td>\n",
              "      <td>2.91</td>\n",
              "    </tr>\n",
              "    <tr>\n",
              "      <th>median/50%</th>\n",
              "      <td>0.70</td>\n",
              "      <td>61.80</td>\n",
              "      <td>57.00</td>\n",
              "      <td>2,401.00</td>\n",
              "      <td>5.70</td>\n",
              "      <td>5.71</td>\n",
              "      <td>3.53</td>\n",
              "    </tr>\n",
              "    <tr>\n",
              "      <th>75%</th>\n",
              "      <td>1.04</td>\n",
              "      <td>62.50</td>\n",
              "      <td>59.00</td>\n",
              "      <td>5,324.25</td>\n",
              "      <td>6.54</td>\n",
              "      <td>6.54</td>\n",
              "      <td>4.04</td>\n",
              "    </tr>\n",
              "    <tr>\n",
              "      <th>max</th>\n",
              "      <td>5.01</td>\n",
              "      <td>79.00</td>\n",
              "      <td>95.00</td>\n",
              "      <td>18,823.00</td>\n",
              "      <td>10.74</td>\n",
              "      <td>58.90</td>\n",
              "      <td>31.80</td>\n",
              "    </tr>\n",
              "    <tr>\n",
              "      <th>var</th>\n",
              "      <td>0       0.23\n",
              "1       0.21\n",
              "2       0.23\n",
              "3      ...</td>\n",
              "      <td>0       61.50\n",
              "1       59.80\n",
              "2       56.90\n",
              "3   ...</td>\n",
              "      <td>0       55.00\n",
              "1       61.00\n",
              "2       65.00\n",
              "3   ...</td>\n",
              "      <td>0         326\n",
              "1         326\n",
              "2         327\n",
              "3   ...</td>\n",
              "      <td>0       3.95\n",
              "1       3.89\n",
              "2       4.05\n",
              "3      ...</td>\n",
              "      <td>0       3.98\n",
              "1       3.84\n",
              "2       4.07\n",
              "3      ...</td>\n",
              "      <td>0       2.43\n",
              "1       2.31\n",
              "2       2.31\n",
              "3      ...</td>\n",
              "    </tr>\n",
              "  </tbody>\n",
              "</table>\n",
              "</div>"
            ],
            "text/plain": [
              "                                                        carat  \\\n",
              "count                                               53,940.00   \n",
              "mean                                                     0.80   \n",
              "std                                                      0.47   \n",
              "min                                                      0.20   \n",
              "25%                                                      0.40   \n",
              "median/50%                                               0.70   \n",
              "75%                                                      1.04   \n",
              "max                                                      5.01   \n",
              "var         0       0.23\n",
              "1       0.21\n",
              "2       0.23\n",
              "3      ...   \n",
              "\n",
              "                                                        depth  \\\n",
              "count                                               53,940.00   \n",
              "mean                                                    61.75   \n",
              "std                                                      1.43   \n",
              "min                                                     43.00   \n",
              "25%                                                     61.00   \n",
              "median/50%                                              61.80   \n",
              "75%                                                     62.50   \n",
              "max                                                     79.00   \n",
              "var         0       61.50\n",
              "1       59.80\n",
              "2       56.90\n",
              "3   ...   \n",
              "\n",
              "                                                        table  \\\n",
              "count                                               53,940.00   \n",
              "mean                                                    57.46   \n",
              "std                                                      2.23   \n",
              "min                                                     43.00   \n",
              "25%                                                     56.00   \n",
              "median/50%                                              57.00   \n",
              "75%                                                     59.00   \n",
              "max                                                     95.00   \n",
              "var         0       55.00\n",
              "1       61.00\n",
              "2       65.00\n",
              "3   ...   \n",
              "\n",
              "                                                        price  \\\n",
              "count                                               53,940.00   \n",
              "mean                                                 3,932.80   \n",
              "std                                                  3,989.44   \n",
              "min                                                    326.00   \n",
              "25%                                                    950.00   \n",
              "median/50%                                           2,401.00   \n",
              "75%                                                  5,324.25   \n",
              "max                                                 18,823.00   \n",
              "var         0         326\n",
              "1         326\n",
              "2         327\n",
              "3   ...   \n",
              "\n",
              "                                                            x  \\\n",
              "count                                               53,940.00   \n",
              "mean                                                     5.73   \n",
              "std                                                      1.12   \n",
              "min                                                      0.00   \n",
              "25%                                                      4.71   \n",
              "median/50%                                               5.70   \n",
              "75%                                                      6.54   \n",
              "max                                                     10.74   \n",
              "var         0       3.95\n",
              "1       3.89\n",
              "2       4.05\n",
              "3      ...   \n",
              "\n",
              "                                                            y  \\\n",
              "count                                               53,940.00   \n",
              "mean                                                     5.73   \n",
              "std                                                      1.14   \n",
              "min                                                      0.00   \n",
              "25%                                                      4.72   \n",
              "median/50%                                               5.71   \n",
              "75%                                                      6.54   \n",
              "max                                                     58.90   \n",
              "var         0       3.98\n",
              "1       3.84\n",
              "2       4.07\n",
              "3      ...   \n",
              "\n",
              "                                                            z  \n",
              "count                                               53,940.00  \n",
              "mean                                                     3.54  \n",
              "std                                                      0.71  \n",
              "min                                                      0.00  \n",
              "25%                                                      2.91  \n",
              "median/50%                                               3.53  \n",
              "75%                                                      4.04  \n",
              "max                                                     31.80  \n",
              "var         0       2.43\n",
              "1       2.31\n",
              "2       2.31\n",
              "3      ...  "
            ]
          },
          "metadata": {},
          "execution_count": 24
        }
      ]
    }
  ]
}