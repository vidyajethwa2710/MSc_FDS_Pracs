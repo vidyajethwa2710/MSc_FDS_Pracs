{
  "nbformat": 4,
  "nbformat_minor": 0,
  "metadata": {
    "kernelspec": {
      "display_name": "Python 3",
      "language": "python",
      "name": "python3"
    },
    "language_info": {
      "codemirror_mode": {
        "name": "ipython",
        "version": 3
      },
      "file_extension": ".py",
      "mimetype": "text/x-python",
      "name": "python",
      "nbconvert_exporter": "python",
      "pygments_lexer": "ipython3",
      "version": "3.7.3"
    },
    "colab": {
      "name": "Practical 4 DISCRETE DISTRIBUTION.ipynb",
      "provenance": [],
      "collapsed_sections": []
    }
  },
  "cells": [
    {
      "cell_type": "code",
      "metadata": {
        "id": "mqYvV9sCiNjq"
      },
      "source": [
        "import matplotlib.pyplot as plt\n",
        "from IPython.display import Math, Latex\n",
        "from IPython.core.display import Image\n",
        "import numpy as np"
      ],
      "execution_count": 1,
      "outputs": []
    },
    {
      "cell_type": "code",
      "metadata": {
        "id": "fSkhgjIyiNjw"
      },
      "source": [
        "import seaborn as sns\n",
        "sns.set(color_codes=True)\n",
        "sns.set(rc={'figure.figsize':(5,5)})"
      ],
      "execution_count": 2,
      "outputs": []
    },
    {
      "cell_type": "markdown",
      "metadata": {
        "id": "m1e8Gem4iNjx"
      },
      "source": [
        "UNIFORM DISTRIBUTION"
      ]
    },
    {
      "cell_type": "code",
      "metadata": {
        "colab": {
          "base_uri": "https://localhost:8080/",
          "height": 322
        },
        "id": "DGrKDV8xiNjz",
        "outputId": "4ddfde4c-cd15-43e5-ba39-fb256811ba1b"
      },
      "source": [
        "from scipy.stats import randint\n",
        "import matplotlib.pyplot as lib\n",
        "fig,ax=plt.subplots(1,1)\n",
        "low,high=7,32\n",
        "mean,var,skew,kurt=randint.stats(low,high,moments='mvsk')\n",
        "x=np.arange(randint.ppf(0.01,low,high),\n",
        "             randint.ppf(0.99,low,high))\n",
        "ax.plot(x,randint.pmf(x,low,high), 'bo',ms=8,label='radint pmf')\n",
        "ax.vlines(x,8,randint.pmf(x,low,high),colors='b',lw=5,alpha=0.5)\n",
        "\n",
        "rv=randint(low,high)\n",
        "ax.vlines(x,0,rv.pmf(x),colors='k',linestyles='-',lw=1,label='frozen pmf')\n",
        "ax.legend(loc='best',frameon=False)\n",
        "plt.show()\n",
        "\n",
        "prob=randint.cdf(x,low,high)\n",
        "np.allclose(x,randint.ppf(prob,low,high))\n",
        "             \n",
        "r=randint.rvs(low,high,size=1000)"
      ],
      "execution_count": 3,
      "outputs": [
        {
          "output_type": "display_data",
          "data": {
            "image/png": "[encoded data removed]",
            "text/plain": [
              "<Figure size 360x360 with 1 Axes>"
            ]
          },
          "metadata": {}
        }
      ]
    },
    {
      "cell_type": "markdown",
      "metadata": {
        "id": "alBK0q81iNj0"
      },
      "source": [
        "bernoulli distribution"
      ]
    },
    {
      "cell_type": "code",
      "metadata": {
        "id": "x8t5E8KIiNj0"
      },
      "source": [
        "from scipy.stats import bernoulli\n",
        "data_bern=bernoulli.rvs(size=10000,p=0.6)"
      ],
      "execution_count": 4,
      "outputs": []
    },
    {
      "cell_type": "code",
      "metadata": {
        "colab": {
          "base_uri": "https://localhost:8080/",
          "height": 411
        },
        "id": "mQZiwHSyiNj1",
        "outputId": "066bbde4-a4b8-4811-8d16-135b443953d3"
      },
      "source": [
        "ax=sns.distplot (data_bern,\n",
        "                kde=False,\n",
        "                color=\"skyblue\",\n",
        "                hist_kws={\"linewidth\": 15,'alpha':1})\n",
        "ax.set(xlabel=\"Bernoulli Distribution\",ylabel='Frequency')"
      ],
      "execution_count": 5,
      "outputs": [
        {
          "output_type": "stream",
          "name": "stderr",
          "text": [
            "/usr/local/lib/python3.7/dist-packages/seaborn/distributions.py:2619: FutureWarning: `distplot` is a deprecated function and will be removed in a future version. Please adapt your code to use either `displot` (a figure-level function with similar flexibility) or `histplot` (an axes-level function for histograms).\n",
            "  warnings.warn(msg, FutureWarning)\n"
          ]
        },
        {
          "output_type": "execute_result",
          "data": {
            "text/plain": [
              "[Text(0, 0.5, 'Frequency'), Text(0.5, 0, 'Bernoulli Distribution')]"
            ]
          },
          "metadata": {},
          "execution_count": 5
        },
        {
          "output_type": "display_data",
          "data": {
            "image/png": "[encoded data removed]",
            "text/plain": [
              "<Figure size 360x360 with 1 Axes>"
            ]
          },
          "metadata": {}
        }
      ]
    },
    {
      "cell_type": "markdown",
      "metadata": {
        "id": "i-P_YYXMiNj2"
      },
      "source": [
        "BINOMINAL DISTRIBUTION"
      ]
    },
    {
      "cell_type": "code",
      "metadata": {
        "id": "5MRhv3STiNj2"
      },
      "source": [
        "from scipy.stats import binom\n",
        "data_binom=binom.rvs(n=10,p=0.8,size=1000000)"
      ],
      "execution_count": 6,
      "outputs": []
    },
    {
      "cell_type": "code",
      "metadata": {
        "colab": {
          "base_uri": "https://localhost:8080/",
          "height": 411
        },
        "id": "YOqa5YsQiNj3",
        "outputId": "38324b11-b4d6-4d23-da9b-1bba0b1a08b9"
      },
      "source": [
        "ax=sns.distplot(data_binom,\n",
        "               kde=False,\n",
        "               color=\"skyblue\",\n",
        "               hist_kws={\"linewidth\": 15,'alpha':1})\n",
        "ax.set(xlabel=\"Binominal Distribution\",ylabel='Frequency')"
      ],
      "execution_count": 7,
      "outputs": [
        {
          "output_type": "stream",
          "name": "stderr",
          "text": [
            "/usr/local/lib/python3.7/dist-packages/seaborn/distributions.py:2619: FutureWarning: `distplot` is a deprecated function and will be removed in a future version. Please adapt your code to use either `displot` (a figure-level function with similar flexibility) or `histplot` (an axes-level function for histograms).\n",
            "  warnings.warn(msg, FutureWarning)\n"
          ]
        },
        {
          "output_type": "execute_result",
          "data": {
            "text/plain": [
              "[Text(0, 0.5, 'Frequency'), Text(0.5, 0, 'Binominal Distribution')]"
            ]
          },
          "metadata": {},
          "execution_count": 7
        },
        {
          "output_type": "display_data",
          "data": {
            "image/png": "[encoded data removed]",
            "text/plain": [
              "<Figure size 360x360 with 1 Axes>"
            ]
          },
          "metadata": {}
        }
      ]
    },
    {
      "cell_type": "markdown",
      "metadata": {
        "id": "pBxUu0xiiNj4"
      },
      "source": [
        "POISSON DISTRIBUION"
      ]
    },
    {
      "cell_type": "code",
      "metadata": {
        "id": "8pu35ZS4iNj4"
      },
      "source": [
        "from scipy.stats import poisson\n",
        "data_poisson=poisson.rvs(mu=3,size=100000)"
      ],
      "execution_count": 8,
      "outputs": []
    },
    {
      "cell_type": "code",
      "metadata": {
        "colab": {
          "base_uri": "https://localhost:8080/",
          "height": 411
        },
        "id": "eR8IbHSdiNj5",
        "outputId": "98fe22a5-c973-4083-a6bf-76454e9ccde4"
      },
      "source": [
        "ax=sns.distplot(data_poisson,\n",
        "                bins=30,\n",
        "               kde=False,\n",
        "               color=\"skyblue\",\n",
        "               hist_kws={\"linewidth\": 15,'alpha':1})\n",
        "ax.set(xlabel=\"Poisson Distribution\",ylabel='Frequency')"
      ],
      "execution_count": 9,
      "outputs": [
        {
          "output_type": "stream",
          "name": "stderr",
          "text": [
            "/usr/local/lib/python3.7/dist-packages/seaborn/distributions.py:2619: FutureWarning: `distplot` is a deprecated function and will be removed in a future version. Please adapt your code to use either `displot` (a figure-level function with similar flexibility) or `histplot` (an axes-level function for histograms).\n",
            "  warnings.warn(msg, FutureWarning)\n"
          ]
        },
        {
          "output_type": "execute_result",
          "data": {
            "text/plain": [
              "[Text(0, 0.5, 'Frequency'), Text(0.5, 0, 'Poisson Distribution')]"
            ]
          },
          "metadata": {},
          "execution_count": 9
        },
        {
          "output_type": "display_data",
          "data": {
            "image/png": "[encoded data removed]",
            "text/plain": [
              "<Figure size 360x360 with 1 Axes>"
            ]
          },
          "metadata": {}
        }
      ]
    }
  ]
}